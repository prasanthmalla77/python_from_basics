{
  "nbformat": 4,
  "nbformat_minor": 0,
  "metadata": {
    "colab": {
      "provenance": [],
      "collapsed_sections": [
        "OUqUtCZKVUbR",
        "PxP5EfpKXQY6",
        "rm5RbfR_XelS",
        "W4uAFxNpYKV8",
        "vVIaSaUhZtGY",
        "0tZYqX-RdccQ",
        "OaJPhRqqHiAQ",
        "jfSaCy1NIVtI",
        "C4AIeptJJbIS",
        "bHumb9igM1yw"
      ]
    },
    "kernelspec": {
      "name": "python3",
      "display_name": "Python 3"
    },
    "language_info": {
      "name": "python"
    }
  },
  "cells": [
    {
      "cell_type": "markdown",
      "source": [
        "\n",
        "# python\n"
      ],
      "metadata": {
        "id": "OUqUtCZKVUbR"
      }
    },
    {
      "cell_type": "code",
      "source": [
        "print(\"Basic python on 12/07/2023 at 11:50PM\")\n"
      ],
      "metadata": {
        "colab": {
          "base_uri": "https://localhost:8080/"
        },
        "id": "pKEQ6bztVZTm",
        "outputId": "95c601bb-0aea-4a3f-ed4f-e254db122379"
      },
      "execution_count": null,
      "outputs": [
        {
          "output_type": "stream",
          "name": "stdout",
          "text": [
            "Basic python on 12/07/2023 at 11:50PM\n"
          ]
        }
      ]
    },
    {
      "cell_type": "markdown",
      "source": [
        "The most commonly used Programming Languages for Machine Learning are:\n",
        "1.Python\n",
        "2.R"
      ],
      "metadata": {
        "id": "7TVT15jtV6lz"
      }
    },
    {
      "cell_type": "code",
      "source": [
        "#print\n",
        "print(\"machine learning\") #string should have \"\" or ''\n",
        "print(8)"
      ],
      "metadata": {
        "colab": {
          "base_uri": "https://localhost:8080/"
        },
        "id": "n8HR5HhWVaD5",
        "outputId": "6d3dbb9d-5f6b-4916-faec-e35539d113cf"
      },
      "execution_count": null,
      "outputs": [
        {
          "output_type": "stream",
          "name": "stdout",
          "text": [
            "machine learning\n",
            "8\n"
          ]
        }
      ]
    },
    {
      "cell_type": "markdown",
      "source": [
        "#basic data types\n",
        "1.int\n",
        "2.float\n",
        "3.str"
      ],
      "metadata": {
        "id": "PxP5EfpKXQY6"
      }
    },
    {
      "cell_type": "code",
      "source": [
        "#basic data types 1.int 2.float 3.str\n",
        "a=10\n",
        "b=10.3\n",
        "c='hello'\n",
        "d=True\n",
        "e=1+2j\n",
        "print(type(a),type(b),type(c),type(d),type(e))"
      ],
      "metadata": {
        "colab": {
          "base_uri": "https://localhost:8080/"
        },
        "id": "7WYiO5-QVpu4",
        "outputId": "c39ffe79-2758-4f32-d90b-548d7507569e"
      },
      "execution_count": null,
      "outputs": [
        {
          "output_type": "stream",
          "name": "stdout",
          "text": [
            "<class 'int'> <class 'float'> <class 'str'> <class 'bool'> <class 'complex'>\n"
          ]
        }
      ]
    },
    {
      "cell_type": "markdown",
      "source": [
        "#Constants and Variables"
      ],
      "metadata": {
        "id": "rm5RbfR_XelS"
      }
    },
    {
      "cell_type": "code",
      "source": [
        "my_name = 'prasanth_malla'\n",
        "print (my_name)"
      ],
      "metadata": {
        "colab": {
          "base_uri": "https://localhost:8080/"
        },
        "id": "DE1yUVWBW-9L",
        "outputId": "002a993e-f476-4c5f-fab5-3a80dc4333f3"
      },
      "execution_count": null,
      "outputs": [
        {
          "output_type": "stream",
          "name": "stdout",
          "text": [
            "prasanth_malla\n"
          ]
        }
      ]
    },
    {
      "cell_type": "code",
      "source": [
        "my_name='malla_prasanth'\n",
        "print(my_name)"
      ],
      "metadata": {
        "colab": {
          "base_uri": "https://localhost:8080/"
        },
        "id": "2xhfnEoKXqne",
        "outputId": "0fd76c4a-4bd5-4444-8412-e572d496b848"
      },
      "execution_count": null,
      "outputs": [
        {
          "output_type": "stream",
          "name": "stdout",
          "text": [
            "malla_prasanth\n"
          ]
        }
      ]
    },
    {
      "cell_type": "code",
      "source": [
        "name1,name2,name3='prasanth',' naidu','malla '\n",
        "print('my name is '+name3+name1+name2)"
      ],
      "metadata": {
        "colab": {
          "base_uri": "https://localhost:8080/"
        },
        "id": "OG1T9xaUXxr6",
        "outputId": "59a58d3f-c7f6-4392-f266-c88e988b6994"
      },
      "execution_count": null,
      "outputs": [
        {
          "output_type": "stream",
          "name": "stdout",
          "text": [
            "my name is malla prasanth naidu\n"
          ]
        }
      ]
    },
    {
      "cell_type": "code",
      "source": [
        "x=y=z=1"
      ],
      "metadata": {
        "id": "gPSt3jDjX7p_"
      },
      "execution_count": null,
      "outputs": []
    },
    {
      "cell_type": "code",
      "source": [
        "print(x+y+z)"
      ],
      "metadata": {
        "colab": {
          "base_uri": "https://localhost:8080/"
        },
        "id": "gRP7nIxrYF38",
        "outputId": "48330693-95b9-4ac5-abad-a4ae9f46ddb6"
      },
      "execution_count": null,
      "outputs": [
        {
          "output_type": "stream",
          "name": "stdout",
          "text": [
            "3\n"
          ]
        }
      ]
    },
    {
      "cell_type": "markdown",
      "source": [
        "#Input Function"
      ],
      "metadata": {
        "id": "W4uAFxNpYKV8"
      }
    },
    {
      "cell_type": "code",
      "source": [
        "number1 = input('enter the 1st number ')\n",
        "print(number1)"
      ],
      "metadata": {
        "colab": {
          "base_uri": "https://localhost:8080/"
        },
        "id": "IhMsKyaVYIlc",
        "outputId": "91e29fc0-3432-4e10-dbe1-a38c6ca36dee"
      },
      "execution_count": null,
      "outputs": [
        {
          "output_type": "stream",
          "name": "stdout",
          "text": [
            "enter the 1st number 3\n",
            "3\n"
          ]
        }
      ]
    },
    {
      "cell_type": "code",
      "source": [
        "#adding 2 numbers\n",
        "a=input()\n",
        "b=input()\n",
        "sum = a+b\n",
        "print(sum)#input function always assumes the input value as a string ,\n",
        "          # so we need to convvert it to integer or required type"
      ],
      "metadata": {
        "colab": {
          "base_uri": "https://localhost:8080/"
        },
        "id": "_jHoK1-nYU7U",
        "outputId": "952d7873-121e-4a36-f52e-73b46cf70d69"
      },
      "execution_count": null,
      "outputs": [
        {
          "output_type": "stream",
          "name": "stdout",
          "text": [
            "12\n",
            "12\n",
            "1212\n"
          ]
        }
      ]
    },
    {
      "cell_type": "code",
      "source": [
        "#we can use int(input()) to take integer value inputs\n",
        "a = int(input(\"enter value of a\"))\n",
        "b = int(input(\"enter value of b\"))\n",
        "sum = a+b\n",
        "print(sum)#input function always assumes the input value as a string ,\n",
        "          # so we need to convvert it to integer or required type"
      ],
      "metadata": {
        "colab": {
          "base_uri": "https://localhost:8080/"
        },
        "id": "n4iEYSCRYaey",
        "outputId": "bd45950a-1aca-47b2-9680-3cedce60cc1e"
      },
      "execution_count": null,
      "outputs": [
        {
          "output_type": "stream",
          "name": "stdout",
          "text": [
            "enter value of a12\n",
            "enter value of b12\n",
            "24\n"
          ]
        }
      ]
    },
    {
      "cell_type": "code",
      "source": [
        "num = 5\n",
        "fb=float(num)\n",
        "print(fb)"
      ],
      "metadata": {
        "colab": {
          "base_uri": "https://localhost:8080/"
        },
        "id": "ZLDtHlswY9yh",
        "outputId": "747b205f-91cc-4c9d-a91d-0362dce64fb8"
      },
      "execution_count": null,
      "outputs": [
        {
          "output_type": "stream",
          "name": "stdout",
          "text": [
            "5.0\n"
          ]
        }
      ]
    },
    {
      "cell_type": "markdown",
      "source": [
        "#Lists"
      ],
      "metadata": {
        "id": "vVIaSaUhZtGY"
      }
    },
    {
      "cell_type": "code",
      "source": [
        "#list\n",
        "a = [1,2,3,4,5]\n",
        "print(type(a))"
      ],
      "metadata": {
        "colab": {
          "base_uri": "https://localhost:8080/"
        },
        "id": "N1_2q9rZZsEO",
        "outputId": "d110c82d-77fc-4ea1-ea82-d9bc81df6aaf"
      },
      "execution_count": null,
      "outputs": [
        {
          "output_type": "stream",
          "name": "stdout",
          "text": [
            "<class 'list'>\n"
          ]
        }
      ]
    },
    {
      "cell_type": "code",
      "source": [
        "a"
      ],
      "metadata": {
        "colab": {
          "base_uri": "https://localhost:8080/"
        },
        "id": "6VcJo8DWZcrY",
        "outputId": "3f300c44-5c6d-47c1-c37e-c032dd479029"
      },
      "execution_count": null,
      "outputs": [
        {
          "output_type": "execute_result",
          "data": {
            "text/plain": [
              "[1, 2, 3, 4, 5]"
            ]
          },
          "metadata": {},
          "execution_count": 42
        }
      ]
    },
    {
      "cell_type": "code",
      "source": [
        "#list can have multiple data types\n",
        "b = [1,2,3.3,4+1j]\n",
        "b"
      ],
      "metadata": {
        "colab": {
          "base_uri": "https://localhost:8080/"
        },
        "id": "d6UMVwmaauJ8",
        "outputId": "dcca9ea2-7b73-4619-8a30-0b84ce9592fb"
      },
      "execution_count": null,
      "outputs": [
        {
          "output_type": "execute_result",
          "data": {
            "text/plain": [
              "[1, 2, 3.3, (4+1j)]"
            ]
          },
          "metadata": {},
          "execution_count": 44
        }
      ]
    },
    {
      "cell_type": "code",
      "source": [
        "#lists are mutable\n",
        "#adding elements to the list\n",
        "a = [1,2,3,4,5]\n",
        "a.append(1)\n",
        "print(a)"
      ],
      "metadata": {
        "colab": {
          "base_uri": "https://localhost:8080/"
        },
        "id": "W7e7vGQna17i",
        "outputId": "02f6e682-969c-44cc-8335-5ea4f395656a"
      },
      "execution_count": null,
      "outputs": [
        {
          "output_type": "stream",
          "name": "stdout",
          "text": [
            "[1, 2, 3, 4, 5, 1]\n"
          ]
        }
      ]
    },
    {
      "cell_type": "code",
      "source": [
        "#print elements  of lists using index\n",
        "a=[1,2,3,4,5,5,4,3,2,1]\n",
        "print(a[0],a[1:3:1],a[::-1])\n",
        "#lists can have duplicate values"
      ],
      "metadata": {
        "colab": {
          "base_uri": "https://localhost:8080/"
        },
        "id": "903UbRBMbMQP",
        "outputId": "690012a7-fd04-4da7-c696-76aaaa5951f2"
      },
      "execution_count": null,
      "outputs": [
        {
          "output_type": "stream",
          "name": "stdout",
          "text": [
            "1 [2, 3] [1, 2, 3, 4, 5, 5, 4, 3, 2, 1]\n"
          ]
        }
      ]
    },
    {
      "cell_type": "code",
      "source": [
        "#length of lists\n",
        "print(len(a))"
      ],
      "metadata": {
        "colab": {
          "base_uri": "https://localhost:8080/"
        },
        "id": "MeAjYHskbppO",
        "outputId": "d74c7f86-57da-454a-ae0d-bcc0181f7fbe"
      },
      "execution_count": null,
      "outputs": [
        {
          "output_type": "stream",
          "name": "stdout",
          "text": [
            "10\n"
          ]
        }
      ]
    },
    {
      "cell_type": "code",
      "source": [
        "#initializing the empty list\n",
        "b=[8,9]\n",
        "b.append(9)\n",
        "print(b)"
      ],
      "metadata": {
        "colab": {
          "base_uri": "https://localhost:8080/"
        },
        "id": "hB295Rifb6KC",
        "outputId": "c5211d06-612a-4263-ea7f-3590c0af248f"
      },
      "execution_count": null,
      "outputs": [
        {
          "output_type": "stream",
          "name": "stdout",
          "text": [
            "[8, 9, 9]\n"
          ]
        }
      ]
    },
    {
      "cell_type": "code",
      "source": [
        "#delete an item in a list\n",
        "del b[0]\n",
        "print (b)"
      ],
      "metadata": {
        "colab": {
          "base_uri": "https://localhost:8080/"
        },
        "id": "jqJbcoCQb9-W",
        "outputId": "6604df4d-e3a7-44e4-ca5f-4cebfee4f013"
      },
      "execution_count": null,
      "outputs": [
        {
          "output_type": "stream",
          "name": "stdout",
          "text": [
            "[9, 9]\n"
          ]
        }
      ]
    },
    {
      "cell_type": "code",
      "source": [
        "#join 2 lists\n",
        "c=a+b\n",
        "print(c)"
      ],
      "metadata": {
        "colab": {
          "base_uri": "https://localhost:8080/"
        },
        "id": "hWzGN9RFcS36",
        "outputId": "c4a25ec3-b66e-46fa-cedc-3960cc2c34b9"
      },
      "execution_count": null,
      "outputs": [
        {
          "output_type": "stream",
          "name": "stdout",
          "text": [
            "[1, 2, 3, 4, 5, 5, 4, 3, 2, 1, 9, 9]\n"
          ]
        }
      ]
    },
    {
      "cell_type": "markdown",
      "source": [
        "#Tuple"
      ],
      "metadata": {
        "id": "0tZYqX-RdccQ"
      }
    },
    {
      "cell_type": "code",
      "source": [
        "#tuple is same as list but immutable\n",
        "my_list=[1,2,3]\n",
        "my_tuple=tuple(my_list)\n",
        "print(my_tuple)"
      ],
      "metadata": {
        "id": "62SNUmqEcZvJ",
        "colab": {
          "base_uri": "https://localhost:8080/"
        },
        "outputId": "8f2d3b19-7af8-47e4-e352-e158a4a24aa3"
      },
      "execution_count": 1,
      "outputs": [
        {
          "output_type": "stream",
          "name": "stdout",
          "text": [
            "(1, 2, 3)\n"
          ]
        }
      ]
    },
    {
      "cell_type": "code",
      "source": [
        "len(my_tuple)"
      ],
      "metadata": {
        "colab": {
          "base_uri": "https://localhost:8080/"
        },
        "id": "y2klFatfHVxf",
        "outputId": "7df7606b-2c32-440b-f2e5-9a1d0934d159"
      },
      "execution_count": 3,
      "outputs": [
        {
          "output_type": "execute_result",
          "data": {
            "text/plain": [
              "3"
            ]
          },
          "metadata": {},
          "execution_count": 3
        }
      ]
    },
    {
      "cell_type": "markdown",
      "source": [
        "#Set"
      ],
      "metadata": {
        "id": "OaJPhRqqHiAQ"
      }
    },
    {
      "cell_type": "code",
      "source": [
        "my_set ={1,2,3,\"hai\"}\n",
        "print(my_set) #set and tuple cant call elements with their index values"
      ],
      "metadata": {
        "colab": {
          "base_uri": "https://localhost:8080/"
        },
        "id": "T--S2et3HY7_",
        "outputId": "430cd179-db7d-46af-de6c-c8fc21022e5e"
      },
      "execution_count": 7,
      "outputs": [
        {
          "output_type": "stream",
          "name": "stdout",
          "text": [
            "{1, 2, 3, 'hai'}\n"
          ]
        }
      ]
    },
    {
      "cell_type": "code",
      "source": [
        "#convert a list to a set\n",
        "list_5 = [1,2,3,4,5]\n",
        "x=set(list_5)"
      ],
      "metadata": {
        "id": "edoT3TuLHcmd"
      },
      "execution_count": 8,
      "outputs": []
    },
    {
      "cell_type": "code",
      "source": [
        "print(x)"
      ],
      "metadata": {
        "colab": {
          "base_uri": "https://localhost:8080/"
        },
        "id": "8k3Ih-EcH4hy",
        "outputId": "95654c2d-6f7e-46b8-dd15-310fb414e3b7"
      },
      "execution_count": 9,
      "outputs": [
        {
          "output_type": "stream",
          "name": "stdout",
          "text": [
            "{1, 2, 3, 4, 5}\n"
          ]
        }
      ]
    },
    {
      "cell_type": "markdown",
      "source": [
        "#Dictionary"
      ],
      "metadata": {
        "id": "jfSaCy1NIVtI"
      }
    },
    {
      "cell_type": "code",
      "source": [
        "# key value pair\n",
        "my_dict={\"hello\":1,\"hai\":2}\n",
        "my_dict[\"hello\"] #set and dictonary doesn't allow duplicate values"
      ],
      "metadata": {
        "colab": {
          "base_uri": "https://localhost:8080/"
        },
        "id": "x3dv0wITH6O_",
        "outputId": "827ee530-7067-460a-914e-d8ac90dd5315"
      },
      "execution_count": 12,
      "outputs": [
        {
          "output_type": "execute_result",
          "data": {
            "text/plain": [
              "1"
            ]
          },
          "metadata": {},
          "execution_count": 12
        }
      ]
    },
    {
      "cell_type": "markdown",
      "source": [
        "#Operators in python"
      ],
      "metadata": {
        "id": "C4AIeptJJbIS"
      }
    },
    {
      "cell_type": "markdown",
      "source": [
        "1. Arithmetic Operators\n",
        "2. Assignment Operators\n",
        "3. Comparison Operators\n",
        "4. Logical Operators\n",
        "5. Identity Operators\n",
        "6. Membership Operators"
      ],
      "metadata": {
        "id": "TuU6XWN5Jljl"
      }
    },
    {
      "cell_type": "code",
      "source": [
        "#arithmetic Operators\n",
        "a=10\n",
        "b=20\n",
        "sum=a+b\n",
        "sub=a-b\n",
        "mul=a*b\n",
        "div=a/b\n",
        "modulo=a%b\n",
        "expo = a**b\n",
        "print(a,b,sum,sub,mul,div,modulo, expo)"
      ],
      "metadata": {
        "colab": {
          "base_uri": "https://localhost:8080/"
        },
        "id": "GL985M7cIZH8",
        "outputId": "fb4075ab-c6ba-45c2-ca78-ccd6719a3b02"
      },
      "execution_count": 14,
      "outputs": [
        {
          "output_type": "stream",
          "name": "stdout",
          "text": [
            "10 20 30 -10 200 0.5 10 100000000000000000000\n"
          ]
        }
      ]
    },
    {
      "cell_type": "code",
      "source": [
        "#assignment Operators\n",
        "a=12\n",
        "a+=5\n",
        "a-=5\n",
        "a*=3\n",
        "a/=2\n",
        "a%=2\n",
        "a"
      ],
      "metadata": {
        "colab": {
          "base_uri": "https://localhost:8080/"
        },
        "id": "O44v2EXfKQZ8",
        "outputId": "7905c6cf-ccb9-43e3-8097-b3dc149d1fd1"
      },
      "execution_count": 21,
      "outputs": [
        {
          "output_type": "execute_result",
          "data": {
            "text/plain": [
              "0.0"
            ]
          },
          "metadata": {},
          "execution_count": 21
        }
      ]
    },
    {
      "cell_type": "code",
      "source": [
        "#comparison Operators\n",
        "a=5\n",
        "b=10\n",
        "print(a==6)\n",
        "print(a==b)\n",
        "print(a<=b,a>=b,a<b,a>b)"
      ],
      "metadata": {
        "colab": {
          "base_uri": "https://localhost:8080/"
        },
        "id": "hrTtuOqfLI_3",
        "outputId": "8aa2ee42-dea9-4aa8-b669-33efdab98717"
      },
      "execution_count": 22,
      "outputs": [
        {
          "output_type": "stream",
          "name": "stdout",
          "text": [
            "False\n",
            "False\n",
            "True False True False\n"
          ]
        }
      ]
    },
    {
      "cell_type": "code",
      "source": [
        "#Logical Operators\n",
        "#and or not\n",
        "print(True and True,True and False,False and False)\n",
        "print(True or False,True or True, False or False)\n",
        "print(not True,not False)"
      ],
      "metadata": {
        "colab": {
          "base_uri": "https://localhost:8080/"
        },
        "id": "9qGBiaJHLtQJ",
        "outputId": "fc1be8ef-c2b6-4906-86db-969b9c953c0d"
      },
      "execution_count": 26,
      "outputs": [
        {
          "output_type": "stream",
          "name": "stdout",
          "text": [
            "True False False\n",
            "True True False\n",
            "False True\n"
          ]
        }
      ]
    },
    {
      "cell_type": "code",
      "source": [
        "\n",
        "#Identity Operaator\n",
        "#is and is not\n",
        "x=1\n",
        "y=3\n",
        "print(x is y)\n",
        "print(x is not y)"
      ],
      "metadata": {
        "colab": {
          "base_uri": "https://localhost:8080/"
        },
        "id": "4wQZJUwjL21U",
        "outputId": "7737ee71-bbc6-4d79-ceef-a7abfae1a351"
      },
      "execution_count": 28,
      "outputs": [
        {
          "output_type": "stream",
          "name": "stdout",
          "text": [
            "False\n",
            "True\n"
          ]
        }
      ]
    },
    {
      "cell_type": "code",
      "source": [
        "#Member ship Operator\n",
        "a = 5\n",
        "b=10\n",
        "c=[1,2,3,4,5,6]\n",
        "print(a in c,a not in c, b in c, b not in c)"
      ],
      "metadata": {
        "colab": {
          "base_uri": "https://localhost:8080/"
        },
        "id": "YqvjT7yFMejz",
        "outputId": "7aabaf48-8bd3-44be-efab-f455ce06b0f9"
      },
      "execution_count": 30,
      "outputs": [
        {
          "output_type": "stream",
          "name": "stdout",
          "text": [
            "True False False True\n"
          ]
        }
      ]
    },
    {
      "cell_type": "markdown",
      "source": [
        "#If Else Statements"
      ],
      "metadata": {
        "id": "bHumb9igM1yw"
      }
    },
    {
      "cell_type": "code",
      "source": [
        "a = 10\n",
        "b = 9\n",
        "if a == 10 :\n",
        "  print ('hello')\n",
        "elif a == 9:\n",
        "  print(\"no\")"
      ],
      "metadata": {
        "colab": {
          "base_uri": "https://localhost:8080/"
        },
        "id": "ggiqKDrJM5GS",
        "outputId": "c8441fbe-60bf-43e3-9a80-799aee841ef6"
      },
      "execution_count": 35,
      "outputs": [
        {
          "output_type": "stream",
          "name": "stdout",
          "text": [
            "hello\n"
          ]
        }
      ]
    },
    {
      "cell_type": "markdown",
      "source": [
        "#Loops in Python"
      ],
      "metadata": {
        "id": "M1IWW6JgNca2"
      }
    },
    {
      "cell_type": "code",
      "source": [
        "for i in range(5):\n",
        "  print(i)"
      ],
      "metadata": {
        "colab": {
          "base_uri": "https://localhost:8080/"
        },
        "id": "TR8tHa5ONfTg",
        "outputId": "d19b4e67-d7f4-4a56-9b74-d7ad2cc86e1a"
      },
      "execution_count": 39,
      "outputs": [
        {
          "output_type": "stream",
          "name": "stdout",
          "text": [
            "0\n",
            "1\n",
            "2\n",
            "3\n",
            "4\n"
          ]
        }
      ]
    },
    {
      "cell_type": "code",
      "source": [
        "number = [50,100,90]\n",
        "print(number)\n",
        "for i in range(3):\n",
        "  print(number[i])"
      ],
      "metadata": {
        "colab": {
          "base_uri": "https://localhost:8080/"
        },
        "id": "RPFDNjLKNoJs",
        "outputId": "5293af79-3e58-48de-a02f-9c9b5e13baed"
      },
      "execution_count": 41,
      "outputs": [
        {
          "output_type": "stream",
          "name": "stdout",
          "text": [
            "[50, 100, 90]\n",
            "50\n",
            "100\n",
            "90\n"
          ]
        }
      ]
    },
    {
      "cell_type": "code",
      "source": [
        "i = 0\n",
        "while i <= 3:\n",
        "    print(i)\n",
        "    i += 1\n"
      ],
      "metadata": {
        "colab": {
          "base_uri": "https://localhost:8080/"
        },
        "id": "vznM8HQbOlNn",
        "outputId": "d97434d9-de87-4673-8a9e-4d8e3c1d7c3f"
      },
      "execution_count": 46,
      "outputs": [
        {
          "output_type": "stream",
          "name": "stdout",
          "text": [
            "0\n",
            "1\n",
            "2\n",
            "3\n"
          ]
        }
      ]
    },
    {
      "cell_type": "markdown",
      "source": [
        "#Functions"
      ],
      "metadata": {
        "id": "ZrrOrDDDP5n-"
      }
    },
    {
      "cell_type": "code",
      "source": [
        "#Factorial\n",
        "\n",
        "def factorials(n):\n",
        "  factorial = 1\n",
        "  for i in range(1,n+1):\n",
        "    factorial = i*factorial\n",
        "  return factorial\n",
        "factorials(5)"
      ],
      "metadata": {
        "colab": {
          "base_uri": "https://localhost:8080/"
        },
        "id": "OisMcDqwP9hb",
        "outputId": "4d608a62-eb7f-4520-beb0-3bb3f9341db8"
      },
      "execution_count": 54,
      "outputs": [
        {
          "output_type": "execute_result",
          "data": {
            "text/plain": [
              "120"
            ]
          },
          "metadata": {},
          "execution_count": 54
        }
      ]
    },
    {
      "cell_type": "code",
      "source": [],
      "metadata": {
        "id": "Wii2uadHQXlo"
      },
      "execution_count": null,
      "outputs": []
    }
  ]
}